{
  "cells": [
    {
      "cell_type": "code",
      "execution_count": null,
      "metadata": {
        "id": "lWEN4AF00meL"
      },
      "outputs": [],
      "source": [
        "def add(request):\n",
        "    request_json = request.get_json(silent=True)\n",
        "    if request_json and 'a' in request_json and 'b' in request_json:\n",
        "        a = request_json['a']\n",
        "        b = request_json['b']\n",
        "        return {'result': add(a, b)}\n",
        "    return {'error': 'Invalid input'}, 400\n",
        "\n",
        "def add(a, b):\n",
        "    return a + b"
      ]
    }
  ],
  "metadata": {
    "colab": {
      "provenance": []
    },
    "kernelspec": {
      "display_name": "Python 3",
      "name": "python3"
    },
    "language_info": {
      "name": "python"
    }
  },
  "nbformat": 4,
  "nbformat_minor": 0
}
